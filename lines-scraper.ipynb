{
 "cells": [
  {
   "cell_type": "markdown",
   "metadata": {},
   "source": [
    "## theScore Data Scraper\n",
    "\n",
    "The following code snippets allow us to gather betting line data at closing for NBA games."
   ]
  },
  {
   "cell_type": "code",
   "execution_count": 1,
   "metadata": {},
   "outputs": [],
   "source": [
    "# imports\n",
    "import requests\n",
    "from bs4 import BeautifulSoup\n",
    "import pandas as pd\n",
    "import numpy as np"
   ]
  },
  {
   "cell_type": "code",
   "execution_count": 4,
   "metadata": {},
   "outputs": [],
   "source": [
    "# constants that affect scrapage\n",
    "baseURL = 'https://www.thescore.com/nba/events/'\n",
    "most_recent_game_id = 508055\n",
    "earliest_game_id = 507514\n",
    "# There will be a total of 1080 games this season, 30*72/2; 1230 in a normal season\n",
    "num_games = most_recent_game_id - earliest_game_id"
   ]
  },
  {
   "cell_type": "code",
   "execution_count": 5,
   "metadata": {},
   "outputs": [
    {
     "name": "stdout",
     "output_type": "stream",
     "text": [
      "    team1 team2 favorite spread over_under team1_score team2_score\n",
      "0      LA   SAC      SAC   -4.0      223.5         120         123\n",
      "1      GS   POR       GS   -1.0      232.5         106         108\n",
      "2     OKC   DAL      DAL   -5.0      221.0          78          87\n",
      "3     CHI    NO      NOP   -5.5      237.0         128         124\n",
      "4     CHA   MIN      CHA   -2.5      234.5         135         102\n",
      "..    ...   ...      ...    ...        ...         ...         ...\n",
      "474   ATL   CHI      ATL   -2.0      233.0         124         104\n",
      "475    NO   TOR      TOR   -3.5      228.5         113          99\n",
      "476    NY   IND      IND   -7.5      215.0         107         121\n",
      "477   WSH   PHI      PHI   -7.0      230.5         107         113\n",
      "478   CHA   CLE      CHA   -2.5      216.5         114         121\n",
      "\n",
      "[479 rows x 7 columns]\n"
     ]
    }
   ],
   "source": [
    "\n",
    "response_data = []\n",
    "for game_id in range(most_recent_game_id, most_recent_game_id - num_games, -1):\n",
    "    page = requests.get(baseURL + str(game_id))\n",
    "    soup = BeautifulSoup(page.content, 'html.parser')\n",
    "    # only true if the game has already finished\n",
    "    label_text = soup.find_all('div', {'class': 'GameDetailsCard__label--iBMhJ'})\n",
    "    if not label_text:\n",
    "        continue\n",
    "    has_closing_odds = label_text[len(label_text) - 1].contents[0] == 'Closing Odds:'\n",
    "    if has_closing_odds:\n",
    "        team_data = soup.find_all('div', {'class': 'Matchup__teamName--vqpde'})\n",
    "        if not team_data:\n",
    "            continue\n",
    "        team_1_abbrv = team_data[0].contents[0].partition(' ')[0]\n",
    "        team_2_abbrv = team_data[1].contents[0].partition(' ')[0]\n",
    "        odds = soup.find_all('div', {'class': 'GameDetailsCard__content--2L_KF'})\n",
    "        if len(odds) > 0:\n",
    "            odds_string = odds[len(odds) - 1].contents[0]\n",
    "            odds_partition = odds_string.split()\n",
    "            if len(odds_partition) < 4:\n",
    "                continue\n",
    "            favorite = odds_partition[0]\n",
    "            spread = odds_partition[1][0:len(odds_partition[1]) - 1]\n",
    "            ou = odds_partition[3]\n",
    "            scores = soup.find_all('div', {'class': 'Matchup__teamScore--2BeCA'})\n",
    "            if not scores:\n",
    "                continue\n",
    "            team_1_score = scores[0].contents[0]\n",
    "            team_2_score = scores[1].contents[0]\n",
    "            response_data.append([team_1_abbrv, \n",
    "                                  team_2_abbrv,\n",
    "                                  favorite,\n",
    "                                  spread,\n",
    "                                  ou,\n",
    "                                  team_1_score,\n",
    "                                  team_2_score])\n",
    "\n",
    "\n",
    "df = pd.DataFrame(response_data,\n",
    "                  columns = ['team1', \n",
    "                             'team2', \n",
    "                             'favorite', \n",
    "                             'spread', \n",
    "                             'over_under', \n",
    "                             'team1_score',\n",
    "                             'team2_score'])\n",
    "df.to_csv('lines.csv', index = False)\n",
    "print(df)"
   ]
  },
  {
   "cell_type": "code",
   "execution_count": null,
   "metadata": {},
   "outputs": [],
   "source": []
  }
 ],
 "metadata": {
  "kernelspec": {
   "display_name": "Python 3",
   "language": "python",
   "name": "python3"
  },
  "language_info": {
   "codemirror_mode": {
    "name": "ipython",
    "version": 3
   },
   "file_extension": ".py",
   "mimetype": "text/x-python",
   "name": "python",
   "nbconvert_exporter": "python",
   "pygments_lexer": "ipython3",
   "version": "3.8.1"
  }
 },
 "nbformat": 4,
 "nbformat_minor": 2
}
