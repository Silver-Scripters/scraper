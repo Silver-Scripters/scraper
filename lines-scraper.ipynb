{
 "metadata": {
  "language_info": {
   "codemirror_mode": {
    "name": "ipython",
    "version": 3
   },
   "file_extension": ".py",
   "mimetype": "text/x-python",
   "name": "python",
   "nbconvert_exporter": "python",
   "pygments_lexer": "ipython3",
   "version": "3.8.5-final"
  },
  "orig_nbformat": 2,
  "kernelspec": {
   "name": "python3",
   "display_name": "Python 3.8.5 64-bit ('env': venv)",
   "metadata": {
    "interpreter": {
     "hash": "cefd31a9cd2480388950f5b32d83b632f95c6a946f775db3278783f3e27bbb70"
    }
   }
  }
 },
 "nbformat": 4,
 "nbformat_minor": 2,
 "cells": [
  {
   "source": [
    "## theScore Data Scraper\n",
    "\n",
    "The following code snippets allow us to gather betting line data at closing for NBA games."
   ],
   "cell_type": "markdown",
   "metadata": {}
  },
  {
   "cell_type": "code",
   "execution_count": 55,
   "metadata": {},
   "outputs": [],
   "source": [
    "# imports\n",
    "import requests\n",
    "from bs4 import BeautifulSoup\n",
    "import pandas as pd\n",
    "import numpy as np"
   ]
  },
  {
   "cell_type": "code",
   "execution_count": 89,
   "metadata": {},
   "outputs": [],
   "source": [
    "# constants that affect scrapage\n",
    "baseURL = 'https://www.thescore.com/nba/events/'\n",
    "most_recent_game_id = 508039\n",
    "num_games = 500"
   ]
  },
  {
   "cell_type": "code",
   "execution_count": 96,
   "metadata": {},
   "outputs": [
    {
     "output_type": "stream",
     "name": "stdout",
     "text": [
      "    team1 team2 favorite spread over_under team1_score team2_score\n0     CHA   POR      POR   -8.0      229.5         111         123\n1     BKN    SA      BKN   -4.0      233.5         124         113\n2     DEN   CHI      DEN   -4.5      226.5         118         112\n3     UTA    NO      UTA   -7.0      237.5         124         129\n4     CLE   HOU      HOU   -3.0      216.5         101          90\n..    ...   ...      ...    ...        ...         ...         ...\n437   MIN    LA      LAL  -10.5      229.0          91         127\n438   PHX   SAC      PHX   -3.5      226.0         116         100\n439    GS   CHI       GS   -3.5      229.5         129         128\n440   BOS   IND      BOS   -3.0      220.5         107         108\n441   MIL    NY      MIL  -13.0      222.0         110         130\n\n[442 rows x 7 columns]\n"
     ]
    }
   ],
   "source": [
    "\n",
    "response_data = []\n",
    "for game_id in range(most_recent_game_id, most_recent_game_id - num_games, -1):\n",
    "    page = requests.get(baseURL + str(game_id))\n",
    "    soup = BeautifulSoup(page.content, 'html.parser')\n",
    "    # only true if the game has already finished\n",
    "    label_text = soup.find_all('div', {'class': 'GameDetailsCard__label--iBMhJ'})\n",
    "    if not label_text:\n",
    "        continue\n",
    "    has_closing_odds = label_text[len(label_text) - 1].contents[0] == 'Closing Odds:'\n",
    "    if has_closing_odds:\n",
    "        team_data = soup.find_all('div', {'class': 'Matchup__teamName--vqpde'})\n",
    "        if not team_data:\n",
    "            continue\n",
    "        team_1_abbrv = team_data[0].contents[0].partition(' ')[0]\n",
    "        team_2_abbrv = team_data[1].contents[0].partition(' ')[0]\n",
    "        odds = soup.find_all('div', {'class': 'GameDetailsCard__content--2L_KF'})\n",
    "        if len(odds) > 0:\n",
    "            odds_string = odds[len(odds) - 1].contents[0]\n",
    "            odds_partition = odds_string.split()\n",
    "            if len(odds_partition) < 4:\n",
    "                continue\n",
    "            favorite = odds_partition[0]\n",
    "            spread = odds_partition[1][0:len(odds_partition[1]) - 1]\n",
    "            ou = odds_partition[3]\n",
    "            scores = soup.find_all('div', {'class': 'Matchup__teamScore--2BeCA'})\n",
    "            if not scores:\n",
    "                continue\n",
    "            team_1_score = scores[0].contents[0]\n",
    "            team_2_score = scores[1].contents[0]\n",
    "            response_data.append([team_1_abbrv, \n",
    "                                  team_2_abbrv,\n",
    "                                  favorite,\n",
    "                                  spread,\n",
    "                                  ou,\n",
    "                                  team_1_score,\n",
    "                                  team_2_score])\n",
    "\n",
    "\n",
    "df = pd.DataFrame(response_data,\n",
    "                  columns = ['team1', \n",
    "                             'team2', \n",
    "                             'favorite', \n",
    "                             'spread', \n",
    "                             'over_under', \n",
    "                             'team1_score',\n",
    "                             'team2_score'])\n",
    "df.to_csv('lines.csv', index = False)\n",
    "print(df)"
   ]
  },
  {
   "cell_type": "code",
   "execution_count": null,
   "metadata": {},
   "outputs": [],
   "source": []
  }
 ]
}