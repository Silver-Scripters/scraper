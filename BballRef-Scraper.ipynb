{
 "cells": [
  {
   "cell_type": "code",
   "execution_count": 2,
   "metadata": {},
   "outputs": [],
   "source": [
    "# imports\n",
    "import requests\n",
    "from bs4 import BeautifulSoup\n",
    "import pandas as pd\n",
    "import numpy as np"
   ]
  },
  {
   "cell_type": "code",
   "execution_count": 3,
   "metadata": {},
   "outputs": [],
   "source": [
    "base_url = \"https://www.basketball-reference.com/leagues/NBA_\"\n",
    "boxscore_url = \"https://www.basketball-reference.com/\"\n",
    "# https://www.basketball-reference.com/leagues/NBA_2022_games-november.html\n",
    "years = range(2000, 2020, 1)\n",
    "months = [\"october\", \"november\", \"december\", \"january\", \"february\", \"march\", \"april\", \"may\", \"june\", \"july\", \"august\", \"september\"]"
   ]
  },
  {
   "cell_type": "code",
   "execution_count": null,
   "metadata": {},
   "outputs": [
    {
     "name": "stdout",
     "output_type": "stream",
     "text": [
      "2000 october\n",
      "2000 november\n",
      "2000 december\n",
      "2000 january\n",
      "2000 february\n",
      "2000 march\n",
      "2000 april\n",
      "2000 may\n",
      "2000 june\n",
      "2000 july\n",
      "2000 august\n",
      "2000 september\n",
      "2001 october\n",
      "2001 november\n",
      "2001 december\n",
      "2001 january\n",
      "2001 february\n",
      "2001 march\n",
      "something went wrong with getting the box scores for game185\n",
      "2001 april\n",
      "2001 may\n",
      "2001 june\n",
      "2001 july\n",
      "2001 august\n",
      "2001 september\n",
      "2002 october\n",
      "2002 november\n",
      "2002 december\n",
      "2002 january\n",
      "2002 february\n",
      "2002 march\n",
      "2002 april\n",
      "2002 may\n"
     ]
    }
   ],
   "source": [
    "# years = [2022]\n",
    "# months = [\"november\"]\n",
    "index = 0\n",
    "rows = []\n",
    "for year in years:\n",
    "    for month in months:\n",
    "        try:\n",
    "            page = requests.get(base_url + str(year) + \"_games-\" + month + \".html\")\n",
    "            soup = BeautifulSoup(page.content, 'html.parser')\n",
    "            print(str(year) + \" \" + month)\n",
    "        except:\n",
    "            print(\"month and year combo don't match\")\n",
    "            pass\n",
    "        try:\n",
    "            games = soup.find_all(lambda tag: tag.name == 'td' and tag.get('class') == ['center'] and 'OT' not in tag.text)\n",
    "        except:\n",
    "            print(\"something went wrong with getting the games\")\n",
    "            pass\n",
    "        for index, game in enumerate(games):\n",
    "            try:\n",
    "                boxscore = requests.get(boxscore_url + game.a['href'])\n",
    "                boxsoup = BeautifulSoup(boxscore.content, 'html.parser')\n",
    "                teams = boxsoup.find_all(lambda tag: tag.name == 'h2' and '-' in tag.text)\n",
    "                team1, team2 = teams[0].text.split(' ('), teams[1].text.split(' (')\n",
    "                team1_name, team2_name = team1[0], team2[0]\n",
    "                team1, team2 = team1[1].split('-'), team2[1].split('-')\n",
    "                team1_win, team2_win = team1[0], team2[0]\n",
    "                team1_loss, team2_loss = team1[1][:-1], team2[1][:-1]\n",
    "                row = [index, team1_name, team2_name, team1_win, team1_loss, team2_win, team2_loss]\n",
    "\n",
    "                boxes = boxsoup.find_all(lambda tag: tag.name == 'table' and '-' in tag.caption.text)\n",
    "                boxes = [boxes[0].tbody, boxes[1].tbody]\n",
    "                for box in boxes:\n",
    "                    players = box.find_all('tr')\n",
    "                    for i in range(5):\n",
    "                        stats = players[i].find_all('td')\n",
    "                        row.extend([players[i].th.a.text, stats[0].text, stats[1].text, stats[2].text, \n",
    "                                                     stats[4].text, stats[5].text, stats[7].text, stats[8].text, \n",
    "                                                      stats[9].text, stats[10].text, stats[11].text, stats[12].text, \n",
    "                                                    stats[14].text, stats[15].text, stats[16].text])\n",
    "                index += 1\n",
    "                rows.append(row)\n",
    "            except:\n",
    "                print(\"something went wrong with getting the box scores for game \" + str(index))\n",
    "                pass"
   ]
  },
  {
   "cell_type": "code",
   "execution_count": null,
   "metadata": {},
   "outputs": [],
   "source": [
    "df = pd.DataFrame(rows)"
   ]
  },
  {
   "cell_type": "code",
   "execution_count": null,
   "metadata": {},
   "outputs": [],
   "source": [
    "df.to_csv('seasons.csv', index = False)"
   ]
  },
  {
   "cell_type": "code",
   "execution_count": null,
   "metadata": {},
   "outputs": [],
   "source": []
  },
  {
   "cell_type": "code",
   "execution_count": null,
   "metadata": {},
   "outputs": [],
   "source": []
  },
  {
   "cell_type": "code",
   "execution_count": null,
   "metadata": {},
   "outputs": [],
   "source": []
  },
  {
   "cell_type": "code",
   "execution_count": null,
   "metadata": {},
   "outputs": [],
   "source": []
  },
  {
   "cell_type": "code",
   "execution_count": null,
   "metadata": {},
   "outputs": [],
   "source": []
  },
  {
   "cell_type": "code",
   "execution_count": null,
   "metadata": {},
   "outputs": [],
   "source": []
  }
 ],
 "metadata": {
  "kernelspec": {
   "display_name": "Python 3",
   "language": "python",
   "name": "python3"
  },
  "language_info": {
   "codemirror_mode": {
    "name": "ipython",
    "version": 3
   },
   "file_extension": ".py",
   "mimetype": "text/x-python",
   "name": "python",
   "nbconvert_exporter": "python",
   "pygments_lexer": "ipython3",
   "version": "3.8.1"
  }
 },
 "nbformat": 4,
 "nbformat_minor": 4
}
