{
 "cells": [
  {
   "cell_type": "code",
   "execution_count": 1,
   "metadata": {},
   "outputs": [],
   "source": [
    "# imports\n",
    "import requests\n",
    "import bs4\n",
    "from bs4 import BeautifulSoup\n",
    "import pandas as pd\n",
    "import numpy as np\n",
    "import warnings\n",
    "warnings.filterwarnings(\"ignore\")"
   ]
  },
  {
   "cell_type": "code",
   "execution_count": 2,
   "metadata": {},
   "outputs": [],
   "source": [
    "# URLs and ranges\n",
    "base_url = \"https://www.basketball-reference.com/leagues/NBA_\"\n",
    "boxscore_url = \"https://www.basketball-reference.com/\"\n",
    "# https://www.basketball-reference.com/leagues/NBA_2022_games-november.html\n",
    "years = range(2000, 2020, 1)\n",
    "months = [\"october\", \"november\", \"december\", \"january\", \"february\", \"march\", \"april\", \"may\", \"june\", \"july\", \"august\", \"september\"]"
   ]
  },
  {
   "cell_type": "code",
   "execution_count": null,
   "metadata": {
    "scrolled": true
   },
   "outputs": [
    {
     "name": "stdout",
     "output_type": "stream",
     "text": [
      "2022 november\n",
      "113\n",
      "118\n",
      "103\n",
      "111\n",
      "128\n",
      "113\n",
      "97\n",
      "115\n"
     ]
    }
   ],
   "source": [
    "index = 0\n",
    "rows = []\n",
    "for year in years:\n",
    "    for month in months:\n",
    "        try:\n",
    "            page = requests.get(base_url + str(year) + \"_games-\" + month + \".html\")\n",
    "            soup = BeautifulSoup(page.content, 'html.parser')\n",
    "            print(str(year) + \" \" + month)\n",
    "        except:\n",
    "            print(\"month and year combo don't match\")\n",
    "            pass\n",
    "        try:\n",
    "            games = soup.find_all(lambda tag: tag.name == 'td' and tag.get('class') == ['center'] and 'OT' not in tag.text)\n",
    "        except:\n",
    "            print(\"something went wrong with getting the games\")\n",
    "            pass\n",
    "        for index, game in enumerate(games):\n",
    "            try:\n",
    "                boxscore = requests.get(boxscore_url + game.a['href'])\n",
    "                boxsoup = BeautifulSoup(boxscore.content, 'html.parser')\n",
    "                # Get scores\n",
    "                scores = boxsoup.find_all(lambda tag: tag.name == 'div' and tag.get('class') == ['score'])\n",
    "                # Get Box Scores\n",
    "                teams = boxsoup.find_all(lambda tag: tag.name == 'h2' and '-' in tag.text)\n",
    "                # Find Dates\n",
    "                dates = boxsoup.find_all(lambda tag: tag.name == 'div' and tag.get('class') == ['scorebox_meta'])\n",
    "                team1, team2 = teams[0].text.split(' ('), teams[1].text.split(' (')\n",
    "                team1_name, team2_name = team1[0], team2[0]\n",
    "                team1, team2 = team1[1].split('-'), team2[1].split('-')\n",
    "                team1_win, team2_win = team1[0], team2[0]\n",
    "                team1_loss, team2_loss = team1[1][:-1], team2[1][:-1]\n",
    "                row = [index, team1_name, team2_name, team1_win, team1_loss, team2_win, team2_loss]\n",
    "                boxes = boxsoup.find_all(lambda tag: tag.name == 'table' and '-' in tag.caption.text)\n",
    "                boxes = [boxes[0].tbody, boxes[1].tbody]\n",
    "                for box in boxes:\n",
    "                    players = box.find_all('tr')\n",
    "                    for i in range(5):\n",
    "                        stats = players[i].find_all('td')\n",
    "                        #Collect Stats\n",
    "                        row.extend([players[i].th.a.text, stats[0].text, stats[1].text, stats[2].text, \n",
    "                                                     stats[4].text, stats[5].text, stats[7].text, stats[8].text, \n",
    "                                                      stats[9].text, stats[10].text, stats[11].text, stats[13].text, \n",
    "                                                    stats[14].text, stats[15].text, stats[16].text, stats[18].text])\n",
    "                        #name, minutes, fg, fga, 3p, 3pa, ft, fta, ft%, oreb, dreb, treb, ast, stl, blk, tov, pts\n",
    "                # Add scores and dates\n",
    "                row.extend([scores[0].text, scores[1].text, dates[0].div.text.split(',')[1]])\n",
    "                index += 1\n",
    "                rows.append(row)\n",
    "            except:\n",
    "                print(\"something went wrong with getting the box scores for game \" + str(index))\n",
    "                pass"
   ]
  },
  {
   "cell_type": "code",
   "execution_count": 5,
   "metadata": {},
   "outputs": [],
   "source": [
    "df = pd.DataFrame(rows)"
   ]
  },
  {
   "cell_type": "code",
   "execution_count": 6,
   "metadata": {},
   "outputs": [],
   "source": [
    "df.to_csv('seasons.csv', index = False)"
   ]
  },
  {
   "cell_type": "code",
   "execution_count": null,
   "metadata": {},
   "outputs": [],
   "source": [
    "games =pd.read_csv('seasons.csv', sep=',', thousands=',',encoding='unicode_escape')"
   ]
  },
  {
   "cell_type": "code",
   "execution_count": null,
   "metadata": {},
   "outputs": [],
   "source": [
    "games.head()"
   ]
  },
  {
   "cell_type": "code",
   "execution_count": null,
   "metadata": {
    "scrolled": true
   },
   "outputs": [],
   "source": [
    "# Minutes Pre-processing\n",
    "for i in range(10):\n",
    "    games[str(i*15+8)] = games[str(i*15+8)].map(lambda x: int(x.split(':')[0])*60 + int(x.split(':')[1]))\n",
    "games.head()"
   ]
  },
  {
   "cell_type": "code",
   "execution_count": null,
   "metadata": {},
   "outputs": [],
   "source": [
    "games['0'] = np.arange(len(games))"
   ]
  },
  {
   "cell_type": "code",
   "execution_count": null,
   "metadata": {},
   "outputs": [],
   "source": [
    "cols = [1, 2, 3, 4, 5, 6, 7, 9, 10, 'ast', 12, 13, 14, 'pts']\n",
    "col_names = ['team1_wins', 'team1_losses', 'team2_wins', 'team2_losses', 'min', 'fg', 'fga', '3p', '3pa', 'ft', 'fta', 'oreb', 'dreb', 'ast', 'stl', 'blk', 'tov', 'pts']\n",
    "for i in range(9):\n",
    "    for column in col_names[4:18]:\n",
    "        col_names.append(column+str(i+2))\n",
    "col_names.append('team1pts')\n",
    "col_names.append('team2pts')\n",
    "col_names.append('dates')\n",
    "names = ['game_number', 'names']\n",
    "names.extend(col_names[4:18])\n",
    "# Function for getting running averages stat totals\n",
    "def past_game_data(player_name, df, index, names):\n",
    "    keep = [0]\n",
    "    keep.extend(list(range(7, (1)*17+7)))\n",
    "    player_df = df.loc[(df['7'] == player_name) & (df['0'] < df['0'].iloc[index])].tail(3).iloc[:, lambda df: keep]\n",
    "    player_df = player_df.drop(player_df.columns[[9, 12]], axis=1)\n",
    "    for i in range(1, 10):\n",
    "        keep = [0]\n",
    "        keep.extend(list(range(i*17+7, (i+1)*17+7)))\n",
    "        temp = df.loc[(df[str(i*15+7)] == player_name) & (df['0'] < df['0'].iloc[index])].tail(3).iloc[:, lambda df: keep]\n",
    "        temp = temp.drop(temp.columns[[9, 12]], axis=1)\n",
    "        player_df = pd.DataFrame(np.concatenate((player_df.values, temp.values), axis=0))\n",
    "        player_df.columns = names\n",
    "        player_df = player_df.sort_values(by=['game_number']).tail(3)\n",
    "\n",
    "    return player_df\n",
    "past_game_data('Kobe Bryant', games, 2000, names)"
   ]
  },
  {
   "cell_type": "code",
   "execution_count": null,
   "metadata": {},
   "outputs": [],
   "source": [
    "# Pre-process entire dataset and get player running 3 game totals \n",
    "rows = []\n",
    "skip = False\n",
    "# min, fg, fga, 3p, 3pa, ft, fta, oreb, dreb, ast, stl, blk, tov, pts\n",
    "for i in range(len(games)):\n",
    "    row = [games['3'][i], games['4'][i], games['5'][i], games['6'][i]] #records\n",
    "    for j in range(10):\n",
    "        temp = past_game_data(games[str(j*15+7)][i], games, i, names)\n",
    "        if len(temp) < 3:\n",
    "            skip = True\n",
    "            break\n",
    "        totals = []\n",
    "        for col in col_names[4:18]:\n",
    "            totals.append(sum(temp[col]))\n",
    "        row.extend(totals)\n",
    "    if not skip:\n",
    "        row.append(games['team1pts'][i])\n",
    "        row.append(games['team2pts'][i])\n",
    "        row.append(games['dates'][i])\n",
    "        rows.append(row)\n",
    "    else:\n",
    "        skip = False\n",
    "    if i%1000 == 0:\n",
    "        print(i)\n",
    "df = pd.DataFrame(rows, columns=col_names)\n",
    "df.head()"
   ]
  },
  {
   "cell_type": "code",
   "execution_count": null,
   "metadata": {},
   "outputs": [],
   "source": [
    "df.to_csv('final.csv', index=False)"
   ]
  },
  {
   "cell_type": "code",
   "execution_count": null,
   "metadata": {},
   "outputs": [],
   "source": []
  },
  {
   "cell_type": "code",
   "execution_count": null,
   "metadata": {},
   "outputs": [],
   "source": []
  },
  {
   "cell_type": "code",
   "execution_count": null,
   "metadata": {},
   "outputs": [],
   "source": []
  },
  {
   "cell_type": "code",
   "execution_count": null,
   "metadata": {},
   "outputs": [],
   "source": []
  },
  {
   "cell_type": "code",
   "execution_count": null,
   "metadata": {},
   "outputs": [],
   "source": []
  },
  {
   "cell_type": "code",
   "execution_count": null,
   "metadata": {},
   "outputs": [],
   "source": []
  }
 ],
 "metadata": {
  "kernelspec": {
   "display_name": "Python 3",
   "language": "python",
   "name": "python3"
  },
  "language_info": {
   "codemirror_mode": {
    "name": "ipython",
    "version": 3
   },
   "file_extension": ".py",
   "mimetype": "text/x-python",
   "name": "python",
   "nbconvert_exporter": "python",
   "pygments_lexer": "ipython3",
   "version": "3.8.1"
  }
 },
 "nbformat": 4,
 "nbformat_minor": 4
}
