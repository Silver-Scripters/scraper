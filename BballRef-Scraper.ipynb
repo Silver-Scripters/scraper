{
 "cells": [
  {
   "cell_type": "code",
   "execution_count": 1,
   "metadata": {},
   "outputs": [],
   "source": [
    "# imports\n",
    "import requests\n",
    "from bs4 import BeautifulSoup\n",
    "import pandas as pd\n",
    "import numpy as np"
   ]
  },
  {
   "cell_type": "code",
   "execution_count": 2,
   "metadata": {},
   "outputs": [],
   "source": [
    "base_url = \"https://www.basketball-reference.com/leagues/NBA_\"\n",
    "boxscore_url = \"https://www.basketball-reference.com/\"\n",
    "# https://www.basketball-reference.com/leagues/NBA_2022_games-november.html\n",
    "years = range(2000, 2022, 1)\n",
    "months = [\"january\", \"february\", \"march\", \"april\", \"may\", \"june\", \"july\", \"august\", \"september\", \"october\", \"november\", \"december\"]"
   ]
  },
  {
   "cell_type": "code",
   "execution_count": 56,
   "metadata": {},
   "outputs": [
    {
     "name": "stdout",
     "output_type": "stream",
     "text": [
      "[0, 'Cleveland Cavaliers', 'Charlotte Hornets', '4', '4', '5', '3', 'Evan Mobley', '40:03', '7', '15', '0', '2', '1', '2', '.500', '4', '6', '10', '2', '1', '4']\n",
      "[0, 'Cleveland Cavaliers', 'Charlotte Hornets', '4', '4', '5', '3', 'Evan Mobley', '40:03', '7', '15', '0', '2', '1', '2', '.500', '4', '6', '10', '2', '1', '4', 'Collin Sexton', '35:33', '5', '17', '1', '5', '6', '8', '.750', '4', '3', '7', '2', '0', '2']\n",
      "[0, 'Cleveland Cavaliers', 'Charlotte Hornets', '4', '4', '5', '3', 'Evan Mobley', '40:03', '7', '15', '0', '2', '1', '2', '.500', '4', '6', '10', '2', '1', '4', 'Collin Sexton', '35:33', '5', '17', '1', '5', '6', '8', '.750', '4', '3', '7', '2', '0', '2', 'Darius Garland', '35:07', '5', '13', '1', '6', '5', '7', '.714', '0', '3', '3', '3', '0', '3']\n",
      "[0, 'Cleveland Cavaliers', 'Charlotte Hornets', '4', '4', '5', '3', 'Evan Mobley', '40:03', '7', '15', '0', '2', '1', '2', '.500', '4', '6', '10', '2', '1', '4', 'Collin Sexton', '35:33', '5', '17', '1', '5', '6', '8', '.750', '4', '3', '7', '2', '0', '2', 'Darius Garland', '35:07', '5', '13', '1', '6', '5', '7', '.714', '0', '3', '3', '3', '0', '3', 'Lauri Markkanen', '35:03', '7', '19', '2', '8', '5', '6', '.833', '3', '5', '8', '2', '2', '2']\n",
      "[0, 'Cleveland Cavaliers', 'Charlotte Hornets', '4', '4', '5', '3', 'Evan Mobley', '40:03', '7', '15', '0', '2', '1', '2', '.500', '4', '6', '10', '2', '1', '4', 'Collin Sexton', '35:33', '5', '17', '1', '5', '6', '8', '.750', '4', '3', '7', '2', '0', '2', 'Darius Garland', '35:07', '5', '13', '1', '6', '5', '7', '.714', '0', '3', '3', '3', '0', '3', 'Lauri Markkanen', '35:03', '7', '19', '2', '8', '5', '6', '.833', '3', '5', '8', '2', '2', '2', 'Jarrett Allen', '34:55', '9', '13', '0', '0', '6', '9', '.667', '6', '10', '16', '1', '3', '1']\n",
      "[0, 'Cleveland Cavaliers', 'Charlotte Hornets', '4', '4', '5', '3', 'Evan Mobley', '40:03', '7', '15', '0', '2', '1', '2', '.500', '4', '6', '10', '2', '1', '4', 'Collin Sexton', '35:33', '5', '17', '1', '5', '6', '8', '.750', '4', '3', '7', '2', '0', '2', 'Darius Garland', '35:07', '5', '13', '1', '6', '5', '7', '.714', '0', '3', '3', '3', '0', '3', 'Lauri Markkanen', '35:03', '7', '19', '2', '8', '5', '6', '.833', '3', '5', '8', '2', '2', '2', 'Jarrett Allen', '34:55', '9', '13', '0', '0', '6', '9', '.667', '6', '10', '16', '1', '3', '1', 'Miles Bridges', '35:57', '4', '18', '1', '7', '4', '4', '1.000', '2', '7', '9', '3', '2', '3']\n",
      "[0, 'Cleveland Cavaliers', 'Charlotte Hornets', '4', '4', '5', '3', 'Evan Mobley', '40:03', '7', '15', '0', '2', '1', '2', '.500', '4', '6', '10', '2', '1', '4', 'Collin Sexton', '35:33', '5', '17', '1', '5', '6', '8', '.750', '4', '3', '7', '2', '0', '2', 'Darius Garland', '35:07', '5', '13', '1', '6', '5', '7', '.714', '0', '3', '3', '3', '0', '3', 'Lauri Markkanen', '35:03', '7', '19', '2', '8', '5', '6', '.833', '3', '5', '8', '2', '2', '2', 'Jarrett Allen', '34:55', '9', '13', '0', '0', '6', '9', '.667', '6', '10', '16', '1', '3', '1', 'Miles Bridges', '35:57', '4', '18', '1', '7', '4', '4', '1.000', '2', '7', '9', '3', '2', '3', 'LaMelo Ball', '34:09', '12', '22', '5', '8', '1', '1', '1.000', '4', '3', '7', '2', '2', '3']\n",
      "[0, 'Cleveland Cavaliers', 'Charlotte Hornets', '4', '4', '5', '3', 'Evan Mobley', '40:03', '7', '15', '0', '2', '1', '2', '.500', '4', '6', '10', '2', '1', '4', 'Collin Sexton', '35:33', '5', '17', '1', '5', '6', '8', '.750', '4', '3', '7', '2', '0', '2', 'Darius Garland', '35:07', '5', '13', '1', '6', '5', '7', '.714', '0', '3', '3', '3', '0', '3', 'Lauri Markkanen', '35:03', '7', '19', '2', '8', '5', '6', '.833', '3', '5', '8', '2', '2', '2', 'Jarrett Allen', '34:55', '9', '13', '0', '0', '6', '9', '.667', '6', '10', '16', '1', '3', '1', 'Miles Bridges', '35:57', '4', '18', '1', '7', '4', '4', '1.000', '2', '7', '9', '3', '2', '3', 'LaMelo Ball', '34:09', '12', '22', '5', '8', '1', '1', '1.000', '4', '3', '7', '2', '2', '3', 'Terry Rozier', '33:59', '9', '22', '4', '11', '1', '2', '.500', '0', '6', '6', '2', '1', '2']\n",
      "[0, 'Cleveland Cavaliers', 'Charlotte Hornets', '4', '4', '5', '3', 'Evan Mobley', '40:03', '7', '15', '0', '2', '1', '2', '.500', '4', '6', '10', '2', '1', '4', 'Collin Sexton', '35:33', '5', '17', '1', '5', '6', '8', '.750', '4', '3', '7', '2', '0', '2', 'Darius Garland', '35:07', '5', '13', '1', '6', '5', '7', '.714', '0', '3', '3', '3', '0', '3', 'Lauri Markkanen', '35:03', '7', '19', '2', '8', '5', '6', '.833', '3', '5', '8', '2', '2', '2', 'Jarrett Allen', '34:55', '9', '13', '0', '0', '6', '9', '.667', '6', '10', '16', '1', '3', '1', 'Miles Bridges', '35:57', '4', '18', '1', '7', '4', '4', '1.000', '2', '7', '9', '3', '2', '3', 'LaMelo Ball', '34:09', '12', '22', '5', '8', '1', '1', '1.000', '4', '3', '7', '2', '2', '3', 'Terry Rozier', '33:59', '9', '22', '4', '11', '1', '2', '.500', '0', '6', '6', '2', '1', '2', 'Gordon Hayward', '28:52', '2', '7', '2', '6', '0', '0', '', '0', '3', '3', '2', '1', '2']\n",
      "[0, 'Cleveland Cavaliers', 'Charlotte Hornets', '4', '4', '5', '3', 'Evan Mobley', '40:03', '7', '15', '0', '2', '1', '2', '.500', '4', '6', '10', '2', '1', '4', 'Collin Sexton', '35:33', '5', '17', '1', '5', '6', '8', '.750', '4', '3', '7', '2', '0', '2', 'Darius Garland', '35:07', '5', '13', '1', '6', '5', '7', '.714', '0', '3', '3', '3', '0', '3', 'Lauri Markkanen', '35:03', '7', '19', '2', '8', '5', '6', '.833', '3', '5', '8', '2', '2', '2', 'Jarrett Allen', '34:55', '9', '13', '0', '0', '6', '9', '.667', '6', '10', '16', '1', '3', '1', 'Miles Bridges', '35:57', '4', '18', '1', '7', '4', '4', '1.000', '2', '7', '9', '3', '2', '3', 'LaMelo Ball', '34:09', '12', '22', '5', '8', '1', '1', '1.000', '4', '3', '7', '2', '2', '3', 'Terry Rozier', '33:59', '9', '22', '4', '11', '1', '2', '.500', '0', '6', '6', '2', '1', '2', 'Gordon Hayward', '28:52', '2', '7', '2', '6', '0', '0', '', '0', '3', '3', '2', '1', '2', 'Mason Plumlee', '26:26', '1', '2', '0', '0', '0', '0', '', '4', '3', '7', '0', '3', '2']\n"
     ]
    }
   ],
   "source": [
    "years = [2022]\n",
    "months = [\"november\"]\n",
    "index = 0\n",
    "rows = []\n",
    "for year in years:\n",
    "    for month in months:\n",
    "        try:\n",
    "            page = requests.get(base_url + str(year) + \"_games-\" + month + \".html\")\n",
    "            soup = BeautifulSoup(page.content, 'html.parser')\n",
    "        except:\n",
    "            print(\"month and year combo don't match\")\n",
    "        \n",
    "        try:\n",
    "            games = soup.find_all(lambda tag: tag.name == 'td' and tag.get('class') == ['center'])\n",
    "        except:\n",
    "            print(\"something went wrong with getting the games\")\n",
    "        for game in games:\n",
    "#             try:\n",
    "            boxscore = requests.get(boxscore_url + game.a['href'])\n",
    "            boxsoup = BeautifulSoup(boxscore.content, 'html.parser')\n",
    "            teams = boxsoup.find_all('h2')\n",
    "            team1, team2 = teams[3].text.split(' ('), teams[11].text.split(' (')\n",
    "            team1_name, team2_name = team1[0], team2[0]\n",
    "            team1, team2 = team1[1].split('-'), team2[1].split('-')\n",
    "            team1_win, team2_win = team1[0], team2[0]\n",
    "            team1_loss, team2_loss = team1[1][:-1], team2[1][:-1]\n",
    "            row = [index, team1_name, team2_name, team1_win, team1_loss, team2_win, team2_loss]\n",
    "            \n",
    "            boxes = boxsoup.find_all('div', {'class': 'table_container'})\n",
    "            boxes = [boxes[0].table.tbody, boxes[8].table.tbody]\n",
    "            for box in boxes:\n",
    "                players = box.find_all('tr')\n",
    "                for i in range(5):\n",
    "                    stats = players[i].find_all('td')\n",
    "                    row.extend([players[i].th.a.text, stats[0].text, stats[1].text, stats[2].text, \n",
    "                                                 stats[4].text, stats[5].text, stats[7].text, stats[8].text, \n",
    "                                                  stats[9].text, stats[10].text, stats[11].text, stats[12].text, \n",
    "                                                stats[14].text, stats[15].text, stats[16].text])\n",
    "                    print(row)\n",
    "                    \n",
    "                \n",
    "            index += 1\n",
    "            break\n",
    "#             except:\n",
    "#                 print(\"something went wrong with getting the box scores\")\n",
    "#                 break"
   ]
  },
  {
   "cell_type": "code",
   "execution_count": null,
   "metadata": {},
   "outputs": [],
   "source": []
  },
  {
   "cell_type": "code",
   "execution_count": null,
   "metadata": {},
   "outputs": [],
   "source": []
  },
  {
   "cell_type": "code",
   "execution_count": null,
   "metadata": {},
   "outputs": [],
   "source": []
  },
  {
   "cell_type": "code",
   "execution_count": null,
   "metadata": {},
   "outputs": [],
   "source": []
  },
  {
   "cell_type": "code",
   "execution_count": null,
   "metadata": {},
   "outputs": [],
   "source": []
  },
  {
   "cell_type": "code",
   "execution_count": null,
   "metadata": {},
   "outputs": [],
   "source": []
  },
  {
   "cell_type": "code",
   "execution_count": null,
   "metadata": {},
   "outputs": [],
   "source": []
  },
  {
   "cell_type": "code",
   "execution_count": null,
   "metadata": {},
   "outputs": [],
   "source": []
  }
 ],
 "metadata": {
  "kernelspec": {
   "display_name": "Python 3",
   "language": "python",
   "name": "python3"
  },
  "language_info": {
   "codemirror_mode": {
    "name": "ipython",
    "version": 3
   },
   "file_extension": ".py",
   "mimetype": "text/x-python",
   "name": "python",
   "nbconvert_exporter": "python",
   "pygments_lexer": "ipython3",
   "version": "3.8.1"
  }
 },
 "nbformat": 4,
 "nbformat_minor": 4
}
