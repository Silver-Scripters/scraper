{
 "cells": [
  {
   "cell_type": "code",
   "execution_count": 1,
   "metadata": {},
   "outputs": [],
   "source": [
    "# imports\n",
    "import requests\n",
    "from bs4 import BeautifulSoup\n",
    "import pandas as pd\n",
    "import numpy as np"
   ]
  },
  {
   "cell_type": "code",
   "execution_count": 3,
   "metadata": {},
   "outputs": [],
   "source": [
    "base_url = \"https://www.basketball-reference.com/leagues/NBA_\"\n",
    "boxscore_url = \"https://www.basketball-reference.com/\"\n",
    "# https://www.basketball-reference.com/leagues/NBA_2022_games-november.html\n",
    "years = range(2000, 2022, 1)\n",
    "months = [\"january\", \"february\", \"march\", \"april\", \"may\", \"june\", \"july\", \"august\", \"september\", \"october\", \"november\", \"december\"]"
   ]
  },
  {
   "cell_type": "code",
   "execution_count": 9,
   "metadata": {},
   "outputs": [
    {
     "name": "stdout",
     "output_type": "stream",
     "text": [
      "<class 'str'>\n"
     ]
    }
   ],
   "source": [
    "years = [2022]\n",
    "months = [\"november\"]\n",
    "for year in years:\n",
    "    for month in months:\n",
    "        try:\n",
    "            page = requests.get(base_url + str(year) + \"_games-\" + month + \".html\")\n",
    "            soup = BeautifulSoup(page.content, 'html.parser')\n",
    "        except:\n",
    "            print(\"month and year combo don't match\")\n",
    "        \n",
    "        try:\n",
    "            games = soup.find_all(lambda tag: tag.name == 'td' and tag.get('class') == ['center'])\n",
    "        except:\n",
    "            print(\"something went wrong with getting the games\")\n",
    "        for game in games\n",
    "            try:\n",
    "                boxscore = requests.get(boxscore_url + game.a['href'])\n",
    "                boxsoup = BeautifulSoup(boxscore.content, 'html.parser')\n",
    "            except:\n",
    "                print(\"something went wrong with getting the box scores\")\n"
   ]
  },
  {
   "cell_type": "code",
   "execution_count": null,
   "metadata": {},
   "outputs": [],
   "source": []
  },
  {
   "cell_type": "code",
   "execution_count": null,
   "metadata": {},
   "outputs": [],
   "source": []
  },
  {
   "cell_type": "code",
   "execution_count": null,
   "metadata": {},
   "outputs": [],
   "source": []
  },
  {
   "cell_type": "code",
   "execution_count": null,
   "metadata": {},
   "outputs": [],
   "source": []
  },
  {
   "cell_type": "code",
   "execution_count": null,
   "metadata": {},
   "outputs": [],
   "source": []
  },
  {
   "cell_type": "code",
   "execution_count": null,
   "metadata": {},
   "outputs": [],
   "source": []
  },
  {
   "cell_type": "code",
   "execution_count": null,
   "metadata": {},
   "outputs": [],
   "source": []
  },
  {
   "cell_type": "code",
   "execution_count": null,
   "metadata": {},
   "outputs": [],
   "source": []
  }
 ],
 "metadata": {
  "kernelspec": {
   "display_name": "Python 3",
   "language": "python",
   "name": "python3"
  },
  "language_info": {
   "codemirror_mode": {
    "name": "ipython",
    "version": 3
   },
   "file_extension": ".py",
   "mimetype": "text/x-python",
   "name": "python",
   "nbconvert_exporter": "python",
   "pygments_lexer": "ipython3",
   "version": "3.8.1"
  }
 },
 "nbformat": 4,
 "nbformat_minor": 4
}
